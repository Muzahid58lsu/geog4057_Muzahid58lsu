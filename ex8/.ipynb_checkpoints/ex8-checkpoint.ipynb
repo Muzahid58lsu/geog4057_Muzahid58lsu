{
 "cells": [
  {
   "cell_type": "code",
   "execution_count": 1,
   "id": "a96d821c",
   "metadata": {},
   "outputs": [
    {
     "name": "stdout",
     "output_type": "stream",
     "text": [
      "C:\\Users\\muzah\\OneDrive - Louisiana State University\\Documents\\Programming\\geog4057_Muzahid58lsu\\ex8\\Austin_Data.gdb\n"
     ]
    }
   ],
   "source": [
    "import arcpy\n",
    "import os\n",
    "\n",
    "# Change this path to match your actual path\n",
    "pathname = r\"C:\\Users\\muzah\\OneDrive - Louisiana State University\\Documents\\Programming\\geog4057_Muzahid58lsu\\ex8\"\n",
    "\n",
    "aprx = arcpy.mp.ArcGISProject(os.path.join(pathname, \"Austin.aprx\"))\n",
    "print(aprx.defaultGeodatabase)\n"
   ]
  },
  {
   "cell_type": "code",
   "execution_count": 2,
   "id": "0f8b898f",
   "metadata": {},
   "outputs": [],
   "source": [
    "# Save a copy of the current project file\n",
    "aprx.saveACopy(os.path.join(pathname, \"Austin_Copy.aprx\"))\n"
   ]
  },
  {
   "cell_type": "markdown",
   "id": "25439f10-041d-4fca-b987-51ce89a9d4fe",
   "metadata": {},
   "source": [
    "Austin_Copy.aprx` and the main `Austin.aprx` contain the same features inside them, but the file size of `Austin_Copy.aprx` is smaller.\n",
    "\n"
   ]
  },
  {
   "cell_type": "code",
   "execution_count": 1,
   "id": "75594034-4e88-431d-b3a3-89d8dc1e9e50",
   "metadata": {},
   "outputs": [
    {
     "name": "stdout",
     "output_type": "stream",
     "text": [
      "Downtown\n",
      "Foot_US\n",
      "Region\n",
      "Foot_US\n"
     ]
    }
   ],
   "source": [
    "aprx = arcpy.mp.ArcGISProject('CURRENT')\n",
    "maps = aprx.listMaps()\n",
    "for m in maps:\n",
    "    print(m.name)\n",
    "    print(m.mapUnits)\n",
    "del aprx"
   ]
  },
  {
   "cell_type": "markdown",
   "id": "bd5303d4-0161-4f7f-a9c4-9a4cc4e53d09",
   "metadata": {},
   "source": [
    "### Explanation of `del aprx`\n",
    "\n",
    "The `del aprx` command does not delete the project file. It simply frees up the `aprx` object from the Python environment to release memory or avoid accidental reuse."
   ]
  },
  {
   "cell_type": "code",
   "execution_count": 2,
   "id": "9520f35d-2340-4f6c-8068-b4722516a02f",
   "metadata": {},
   "outputs": [],
   "source": [
    "aprx = arcpy.mp.ArcGISProject('CURRENT')\n",
    "m = aprx.listMaps(\"Region\")[0]\n",
    "m.name = \"County\"\n",
    "del aprx"
   ]
  },
  {
   "cell_type": "markdown",
   "id": "7d9fec63-27db-4ed8-bf86-6f07d4025408",
   "metadata": {},
   "source": [
    "### Map Name Change Verification\n",
    "\n",
    "Yes, after running the cell, the map name `Region` was successfully changed to `County`.\n"
   ]
  },
  {
   "cell_type": "code",
   "execution_count": 3,
   "id": "981c9ae5-b1b0-49d6-a56b-66a6d0221d9a",
   "metadata": {},
   "outputs": [
    {
     "name": "stdout",
     "output_type": "stream",
     "text": [
      "Map: Downtown\n",
      "trees\n",
      "parks\n",
      "base\n",
      "Topographic\n",
      "Map: County\n",
      "facilities\n",
      "hospitals\n",
      "parks\n",
      "Topographic\n"
     ]
    }
   ],
   "source": [
    "aprx = arcpy.mp.ArcGISProject('CURRENT')\n",
    "maps = aprx.listMaps()\n",
    "for m in maps:\n",
    "    print(\"Map: \" + m.name)\n",
    "    lyrs = m.listLayers()\n",
    "    for lyr in lyrs:\n",
    "        print(lyr.name)\n",
    "del aprx"
   ]
  },
  {
   "cell_type": "markdown",
   "id": "e3f03463-d613-4973-8327-f60e6b178444",
   "metadata": {},
   "source": [
    "### Layer Listing Confirmation\n",
    "\n",
    "The layers in the map were successfully listed in the previous cell run.\n"
   ]
  },
  {
   "cell_type": "code",
   "execution_count": 4,
   "id": "8573bc82-3f65-4ec4-ab67-ccf101bf7f62",
   "metadata": {},
   "outputs": [
    {
     "name": "stdout",
     "output_type": "stream",
     "text": [
      "trees is a feature layer\n",
      "parks is a feature layer\n",
      "base is a feature layer\n",
      "Topographic is a basemap layer\n"
     ]
    }
   ],
   "source": [
    "aprx = arcpy.mp.ArcGISProject('CURRENT')\n",
    "m = aprx.listMaps(\"Downtown\")[0]\n",
    "lyrs = m.listLayers()\n",
    "for lyr in lyrs:\n",
    "    if lyr.isBasemapLayer:\n",
    "        print(lyr.name + \" is a basemap layer\")\n",
    "    if lyr.isFeatureLayer:\n",
    "        print(lyr.name + \" is a feature layer\")\n",
    "del aprx\n"
   ]
  },
  {
   "cell_type": "markdown",
   "id": "5c4f036f-a27c-4370-b5c2-2f9b92d4babc",
   "metadata": {},
   "source": [
    "### Layer Type Identification\n",
    "\n",
    "Each layer was identified as either a feature layer or a basemap layer by the previous block of code.\n"
   ]
  },
  {
   "cell_type": "code",
   "execution_count": 5,
   "id": "61492626-5153-4d97-97c4-d843e3b43cff",
   "metadata": {},
   "outputs": [],
   "source": [
    "aprx = arcpy.mp.ArcGISProject('CURRENT')\n",
    "m = aprx.listMaps(\"Downtown\")[0]\n",
    "m.addBasemap(\"Light Gray Canvas\")"
   ]
  },
  {
   "cell_type": "markdown",
   "id": "6cda0664-cc86-4713-a586-132c051b3d11",
   "metadata": {},
   "source": [
    "### Basemap Update Confirmation\n",
    "\n",
    "The basemap was successfully changed to **Light Gray Canvas**.\n"
   ]
  },
  {
   "cell_type": "code",
   "execution_count": 6,
   "id": "dec7f7e0-a54f-43b6-aa40-d0c9934511ae",
   "metadata": {},
   "outputs": [],
   "source": [
    "aprx = arcpy.mp.ArcGISProject(\"CURRENT\")\n",
    "m = aprx.listMaps(\"Downtown\")[0]\n",
    "lyr = m.listLayers(\"parks\")[0]\n",
    "sym = lyr.symbology\n",
    "green = {\"RGB\": [100, 175, 0, 100]}\n",
    "if lyr.isFeatureLayer and hasattr(sym, \"renderer\"):\n",
    "    sym.renderer.symbol.color = green\n",
    "    lyr.symbology = sym"
   ]
  },
  {
   "cell_type": "markdown",
   "id": "5ad2e6bb-a47f-4e08-8120-a7b930e12aaf",
   "metadata": {},
   "source": [
    "### Symbology Color Explanation\n",
    "\n",
    "`green` is a dictionary that defines the color using RGB values. The numbers represent the intensity of red, green, and blue, and the last value (100) represents the opacity.  \n",
    "To change the color to brown, I used the following code, and I could see the color successfully changed to brown:\n",
    "\n",
    "```python\n",
    "brown = {\"RGB\": [150, 75, 0, 100]}\n"
   ]
  },
  {
   "cell_type": "code",
   "execution_count": 7,
   "id": "9fc1488e-59c4-4498-a74d-39dc1ff90183",
   "metadata": {},
   "outputs": [],
   "source": [
    "m = aprx.listMaps(\"Downtown\")[0]\n",
    "\n",
    "lyt = aprx.createLayout( 11,8.5, 'INCH', 'New Layout with Rectangles')\n",
    "\n",
    "def MakeRec_LL(llx, lly, w, h):\n",
    "    xyRecList = [[llx, lly], [llx, lly+h], [llx+w,lly+h], [llx+w,lly], [llx,lly]]\n",
    "    array = arcpy.Array([arcpy.Point(*coords) for coords in xyRecList])\n",
    "    rec = arcpy.Polygon(array)\n",
    "    return rec\n",
    "\n",
    "mf = lyt.createMapFrame(MakeRec_LL(0.5,0.5,10,7.5), m, \"New Map Frame\")"
   ]
  },
  {
   "cell_type": "markdown",
   "id": "703ec19d-a586-4315-819e-94c72a425ff8",
   "metadata": {},
   "source": [
    "### Layout and Map Frame Details\n",
    "\n",
    "The layout size is **11 x 8.5 inches**.  \n",
    "The map frame starts at the lower-left corner (0.5, 0.5), with a width of 10 inches and height of 7.5 inches, making the map frame size **10 x 7.5 inches**.\n",
    "\n",
    "Using Python makes it easier to reproduce consistent layouts across different projects with just a few lines of code. It also offers better customization capabilities compared to the manual layout creation process in ArcGIS Pro.\n"
   ]
  },
  {
   "cell_type": "code",
   "execution_count": 8,
   "id": "2579620f-ed17-4ec5-baa6-d0b5a54c95a0",
   "metadata": {},
   "outputs": [],
   "source": [
    "#Create a north arrow\n",
    "naStyle = aprx.listStyleItems('ArcGIS 2D', 'North_Arrow', 'Compass North 1')[0]\n",
    "na = lyt.createMapSurroundElement(arcpy.Point(9.5,7.5), 'North_Arrow', mf,\n",
    "                                      naStyle, \"Compass North Arrow\")\n",
    "na.elementWidth = 0.5  \n",
    "\n",
    "#Create a scale bar\n",
    "sbName = 'Double Alternating Scale Bar 1 Metric'\n",
    "sbStyle = aprx.listStyleItems('ArcGIS 2D', 'Scale_bar', sbName)[0]\n",
    "sbEnv = MakeRec_LL(5.5, 0.1, 4, 0.5)\n",
    "sb = lyt.createMapSurroundElement(sbEnv, 'Scale_bar', mf, sbStyle, 'New Scale Bar')"
   ]
  },
  {
   "cell_type": "markdown",
   "id": "25931f30-8843-422c-afdd-5fcfbcbea035",
   "metadata": {},
   "source": [
    "### Map Elements Creation\n",
    "\n",
    "The north arrow and scale bar were successfully created by the previous block of code.\n"
   ]
  },
  {
   "cell_type": "code",
   "execution_count": 9,
   "id": "e961f757-9144-486f-bd92-82c7b0b4b52b",
   "metadata": {},
   "outputs": [],
   "source": [
    "legSi = aprx.listStyleItems('ArcGIS 2D', 'LEGEND', 'Legend 3' )[0]\n",
    "leg = lyt.createMapSurroundElement(arcpy.Point(1,7), 'LEGEND', mf, legSi, 'New Legend Element')\n",
    "leg.elementWidth = 3\n",
    "leg.elementHeight = 3\n",
    "leg.fittingStrategy = 'AdjustFontSize'\n",
    "leg.columnCount = 1\n",
    "leg.title = 'Downtown'"
   ]
  },
  {
   "cell_type": "markdown",
   "id": "7f9dbfb4-8e2a-4b5a-9ced-64dd0a652ac3",
   "metadata": {},
   "source": [
    "### Legend Creation\n",
    "\n",
    "The legend was successfully created by the previous block of code.\n"
   ]
  },
  {
   "cell_type": "code",
   "execution_count": 10,
   "id": "2407a16e-1181-4644-b93a-d007bc0a9617",
   "metadata": {},
   "outputs": [],
   "source": [
    "import os"
   ]
  },
  {
   "cell_type": "code",
   "execution_count": 11,
   "id": "ac599eaa-2180-4736-a394-4ef6e229f458",
   "metadata": {},
   "outputs": [
    {
     "data": {
      "text/plain": [
       "'C:\\\\Users\\\\muzah\\\\OneDrive - Louisiana State University\\\\Documents\\\\Programming\\\\geog4057_Muzahid58lsu\\\\ex8\\\\downtown.pdf'"
      ]
     },
     "execution_count": 11,
     "metadata": {},
     "output_type": "execute_result"
    }
   ],
   "source": [
    "pathname = r\"C:\\Users\\muzah\\OneDrive - Louisiana State University\\Documents\\Programming\\geog4057_Muzahid58lsu\\ex8\"\n",
    "lyt.exportToPDF(os.path.join(pathname, 'downtown.pdf'))"
   ]
  },
  {
   "cell_type": "markdown",
   "id": "6e3cefe5-66e4-4e7c-a55d-6336a7d25076",
   "metadata": {},
   "source": [
    "### PDF Export Confirmation\n",
    "\n",
    "The PDF map was successfully exported by the previous block of code.\n"
   ]
  },
  {
   "cell_type": "code",
   "execution_count": null,
   "id": "9548ede1-e292-4ddd-87ce-d28ef478eaee",
   "metadata": {},
   "outputs": [],
   "source": []
  }
 ],
 "metadata": {
  "kernelspec": {
   "display_name": "ArcGISPro",
   "language": "python",
   "name": "python3"
  },
  "language_info": {
   "file_extension": ".py",
   "mimetype": "text/x-python",
   "name": "python",
   "version": "3.11.10"
  }
 },
 "nbformat": 4,
 "nbformat_minor": 5
}
