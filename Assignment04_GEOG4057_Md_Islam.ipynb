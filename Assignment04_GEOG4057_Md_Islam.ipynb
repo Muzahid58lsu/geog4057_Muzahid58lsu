{
 "cells": [
  {
   "cell_type": "markdown",
   "metadata": {},
   "source": [
    "# Assignment 4 Python Fundamentals\n",
    "\n",
    "## Requirements: (10 pnts)\n",
    "- Add this notebook to ArcGIS Pro\n",
    "- For each of the following questions, add and fill a code box with your answer, and run it to get the output\n",
    "- Upload the updated `.ipynb` file as your assignment submission to Moodle for grading\n",
    "- **10 pnts** go to on-time submissions\n",
    "\n",
    "---\n",
    "\n",
    "## Q1: County Name List (15 pnts)\n",
    "- Find out the five **parishes in Louisiana** with the most population *(by Google or some other sources)*\n",
    "- Create a **list** named `counties` with the five county names (**2 pnts**)\n",
    "- Print the length of the list (**3 pnts**)\n",
    "- Use a **for loop** to print the county names one by one (**10 pnts**)\n"
   ]
  },
  {
   "cell_type": "code",
   "execution_count": 2,
   "metadata": {},
   "outputs": [
    {
     "name": "stdout",
     "output_type": "stream",
     "text": [
      "The length of the list is: 5\n",
      "County names are:\n",
      "East Baton Rouge\n",
      "Jefferson\n",
      "Orleans\n",
      "St. Tammany\n",
      "Lafayette\n"
     ]
    }
   ],
   "source": [
    "counties = [\"East Baton Rouge\", \"Jefferson\", \"Orleans\", \"St. Tammany\", \"Lafayette\"] ####five parishes in Louisiana with most population\n",
    "\n",
    "# list named counties with the five county names\n",
    "print(\"The length of the list is:\", len(counties))\n",
    "\n",
    "# print length of the list\n",
    "print(\"County names are:\")\n",
    "for county in counties:     ####using a for loop to print county names one by one\n",
    "    print(county)\n"
   ]
  },
  {
   "cell_type": "markdown",
   "metadata": {},
   "source": [
    "## Q2: County Population Dictionary (15 pts)\n",
    "\n",
    "### **📌 Instructions**\n",
    "- Create a **dictionary** named `county_pop` with the five county names as keys and their population as values (**2 pts**).\n",
    "- Print the population of the county that has the **largest population** using the `dict[key]` operator (**3 pts**).\n",
    "  - Example: `county_pop['countyname']`\n",
    "- Print the population of the county that has the **least population** (**2 pts**).\n",
    "- Use a **for loop** to calculate the **total population** from the dictionary (**10 pts**).\n",
    "  - **Hint**:  \n",
    "    ```python\n",
    "    for county in county_pop:\n",
    "        # Your code here\n",
    "    ```\n"
   ]
  },
  {
   "cell_type": "code",
   "execution_count": 3,
   "metadata": {},
   "outputs": [
    {
     "name": "stdout",
     "output_type": "stream",
     "text": [
      "The population of the county with the largest population is 448467\n",
      "The population of the county with the lowest population is 249750\n",
      "The total population of the counties is 1759713\n"
     ]
    }
   ],
   "source": [
    "#Dictionary name county_pop with five county namnes and their populations as values     population soourc: https://www.louisiana-demographics.com/counties_by_population\n",
    "\n",
    "county_pop = {\n",
    "    \"East Baton Rouge Parish\": 448467,\n",
    "    \"Jefferson Parish\": 421777,\n",
    "    \"Orleans Parish\": 364136,\n",
    "    \"St. Tammany Parish\": 275583,\n",
    "    \"Lafayette Parish\": 249750\n",
    "}\n",
    "# population of the county that has the highest population\n",
    "print(\"The population of the county with the largest population is \" + str(county_pop[\"East Baton Rouge Parish\"]))\n",
    "#population of the county that has the lowest population\n",
    "print(\"The population of the county with the lowest population is \" + str(county_pop[\"Lafayette Parish\"]))\n",
    "#for loop to calculate total population in the dictionary\n",
    "sum = 0\n",
    "for pop in county_pop.values():\n",
    "    sum += pop\n",
    "print(\"The total population of the counties is \" + str(sum))"
   ]
  },
  {
   "cell_type": "code",
   "execution_count": 4,
   "metadata": {},
   "outputs": [
    {
     "name": "stdout",
     "output_type": "stream",
     "text": [
      "The largest county is East Baton Rouge Parish with a population of 448467.\n",
      "The smallest county is Lafayette Parish with a population of 249750.\n",
      "The total population of all counties is 1759713.\n"
     ]
    }
   ],
   "source": [
    "# Step 1: Create a dictionary with counties and their population (2 pts)  population soourc: https://www.louisiana-demographics.com/counties_by_population\n",
    "\n",
    "county_pop = {\n",
    "    \"East Baton Rouge Parish\": 448467,\n",
    "    \"Jefferson Parish\": 421777,\n",
    "    \"Orleans Parish\": 364136,\n",
    "    \"St. Tammany Parish\": 275583,\n",
    "    \"Lafayette Parish\": 249750\n",
    "}\n",
    "\n",
    "# Step 2: Find and print the population of the county with the largest population (3 pts)\n",
    "max_county = max(county_pop, key=county_pop.get)  # Get county with the highest population\n",
    "print(f\"The largest county is {max_county} with a population of {county_pop[max_county]}.\")\n",
    "\n",
    "# Step 3: Find and print the population of the county with the least population (2 pts)\n",
    "min_county = min(county_pop, key=county_pop.get)  # Get county with the lowest population\n",
    "print(f\"The smallest county is {min_county} with a population of {county_pop[min_county]}.\")\n",
    "\n",
    "# Step 4: Use a for loop to calculate the total population (10 pts)\n",
    "total_population = 0\n",
    "for county in county_pop:\n",
    "    total_population += county_pop[county]  # Adding population of each county\n",
    "\n",
    "print(f\"The total population of all counties is {total_population}.\")\n"
   ]
  },
  {
   "cell_type": "markdown",
   "metadata": {},
   "source": [
    "## Q3 string formatting (10 pnts)\n",
    "- Use the county_pop dictionary to print the county names and populations as the following formatted string: (10 pnts) county1 has a population of ### county2 has a population of ### ...\n",
    "- You can choose to use a for loop or not"
   ]
  },
  {
   "cell_type": "code",
   "execution_count": 7,
   "metadata": {},
   "outputs": [
    {
     "name": "stdout",
     "output_type": "stream",
     "text": [
      "East Baton Rouge Parish has a population of 448467.\n",
      "Jefferson Parish has a population of 421777.\n",
      "Orleans Parish has a population of 364136.\n",
      "St. Tammany Parish has a population of 275583.\n",
      "Lafayette Parish has a population of 249750.\n"
     ]
    }
   ],
   "source": [
    "# Step 5: Use a for loop to format and print the county population (10 pts)\n",
    "for county, population in county_pop.items():\n",
    "    print(f\"{county} has a population of {population}.\")  # String formatting\n"
   ]
  },
  {
   "cell_type": "markdown",
   "metadata": {},
   "source": [
    "## Q4 shape file names for each county (10 pnts)\n",
    "- Use the counties list as input\n",
    "- For each county, create the string for its shapefile name. For example, county1.shp, county2.shp (hint: use the + operator or the f-string feature) (10 pnts)\n",
    "- You can choose to use a for loop or not"
   ]
  },
  {
   "cell_type": "code",
   "execution_count": 8,
   "metadata": {},
   "outputs": [
    {
     "name": "stdout",
     "output_type": "stream",
     "text": [
      "East Baton Rouge.shp\n",
      "Jefferson.shp\n",
      "Orleans.shp\n",
      "St. Tammany.shp\n",
      "Lafayette.shp\n"
     ]
    }
   ],
   "source": [
    "# Step 1: Use the existing counties list\n",
    "counties = [\"East Baton Rouge\", \"Jefferson\", \"Orleans\", \"St. Tammany\", \"Lafayette\"]\n",
    "\n",
    "#Step 2: Create shapefile names using a for loop\n",
    "for county in counties:\n",
    "    shapefile_name = f\"{county}.shp\" #Using f-string to create file name\n",
    "    print(shapefile_name)"
   ]
  },
  {
   "cell_type": "markdown",
   "metadata": {},
   "source": [
    "## Q5 create a full path name for each county (10 pnts)\n",
    "- Define a variable called data_path and store a string as a path name. For example, \"C:/data\" (5 pnts)\n",
    "- Use the os.path.join() function to create a full path name for each county. For example, \"C:/data/county1.shp\" (5 pnts)\n",
    "- Required: you have to use a for...loop on this question"
   ]
  },
  {
   "cell_type": "code",
   "execution_count": 9,
   "metadata": {},
   "outputs": [
    {
     "name": "stdout",
     "output_type": "stream",
     "text": [
      "C:\\Users\\muzah\\OneDrive - Louisiana State University\\Spring 2025\\GEOG  4057\\Assignments\\East Baton Rouge.shp\n",
      "C:\\Users\\muzah\\OneDrive - Louisiana State University\\Spring 2025\\GEOG  4057\\Assignments\\Jefferson.shp\n",
      "C:\\Users\\muzah\\OneDrive - Louisiana State University\\Spring 2025\\GEOG  4057\\Assignments\\Orleans.shp\n",
      "C:\\Users\\muzah\\OneDrive - Louisiana State University\\Spring 2025\\GEOG  4057\\Assignments\\St. Tammany.shp\n",
      "C:\\Users\\muzah\\OneDrive - Louisiana State University\\Spring 2025\\GEOG  4057\\Assignments\\Lafayette.shp\n"
     ]
    }
   ],
   "source": [
    "import os\n",
    "\n",
    "#Step 2: Define the base directory path\n",
    "\n",
    "data_path = r\"C:\\Users\\muzah\\OneDrive - Louisiana State University\\Spring 2025\\GEOG  4057\\Assignments\"\n",
    "\n",
    "#Step 3: Use a for loop to create full paths for each county\n",
    "for county in counties:\n",
    "    full_path = os.path.join(data_path, f\"{county}.shp\")  # Using os.path.join to create full path\n",
    "    print(full_path)  # Print the full path for each county shapefile"
   ]
  },
  {
   "cell_type": "markdown",
   "metadata": {},
   "source": [
    "## Q6 Define a function (30 pnts)\n",
    "- Define a function called countPopulation (5 pnts)\n",
    "\n",
    "- Define the function's docstring using the triple quotes with following content:(5 pnts) Compute the total populatoin of the counties in the dictionary GEOG 4057 GIS Programming\n",
    "\n",
    "- Complete the fucntion so it can return the value of total population (10 pnts)\n",
    "\n",
    "- print the function's docstring using the dunder doc attribute (5 pnts)\n",
    "\n",
    "- Call the function from the code block to print the total population (5 pnts)"
   ]
  },
  {
   "cell_type": "markdown",
   "metadata": {},
   "source": []
  },
  {
   "cell_type": "code",
   "execution_count": 12,
   "metadata": {},
   "outputs": [
    {
     "name": "stdout",
     "output_type": "stream",
     "text": [
      "\n",
      "    Compute the total population of the counties in the dictionary\n",
      "    GEOG 4057 GIS Programming\n",
      "    \n"
     ]
    },
    {
     "data": {
      "text/plain": [
       "1759713"
      ]
     },
     "execution_count": 12,
     "metadata": {},
     "output_type": "execute_result"
    }
   ],
   "source": [
    "def countPopulation():\n",
    "    \"\"\"\n",
    "    Compute the total population of the counties in the dictionary\n",
    "    GEOG 4057 GIS Programming\n",
    "    \"\"\"\n",
    "    total_population = 0\n",
    "    for pop in county_pop.values():\n",
    "        total_population += pop\n",
    "    return total_population\n",
    "# printing doc string\n",
    "print(countPopulation.__doc__)\n",
    "# calling the function\n",
    "countPopulation()\n",
    "    "
   ]
  }
 ],
 "metadata": {
  "kernelspec": {
   "display_name": "Python 3",
   "language": "python",
   "name": "python3"
  },
  "language_info": {
   "codemirror_mode": {
    "name": "ipython",
    "version": 3
   },
   "file_extension": ".py",
   "mimetype": "text/x-python",
   "name": "python",
   "nbconvert_exporter": "python",
   "pygments_lexer": "ipython3",
   "version": "3.11.8"
  }
 },
 "nbformat": 4,
 "nbformat_minor": 2
}
